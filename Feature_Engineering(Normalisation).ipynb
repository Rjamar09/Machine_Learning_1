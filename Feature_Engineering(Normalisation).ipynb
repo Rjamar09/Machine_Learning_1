{
 "cells": [
  {
   "cell_type": "code",
   "execution_count": 1,
   "id": "19e44666",
   "metadata": {},
   "outputs": [],
   "source": [
    "import numpy as np\n",
    "import pandas as pd\n",
    "import matplotlib.pyplot as plt\n",
    "import seaborn as sns\n",
    "import warnings\n",
    "warnings.filterwarnings(\"ignore\")"
   ]
  },
  {
   "cell_type": "code",
   "execution_count": 2,
   "id": "05df40d5",
   "metadata": {},
   "outputs": [],
   "source": [
    "df=pd.read_csv(\"Dataset/wine_data.csv\",header=None,usecols=[0,1,2])\n",
    "df.columns=['class label','Alcohol','Malic acid']"
   ]
  },
  {
   "cell_type": "code",
   "execution_count": 3,
   "id": "6f7fd656",
   "metadata": {},
   "outputs": [
    {
     "data": {
      "text/html": [
       "<div>\n",
       "<style scoped>\n",
       "    .dataframe tbody tr th:only-of-type {\n",
       "        vertical-align: middle;\n",
       "    }\n",
       "\n",
       "    .dataframe tbody tr th {\n",
       "        vertical-align: top;\n",
       "    }\n",
       "\n",
       "    .dataframe thead th {\n",
       "        text-align: right;\n",
       "    }\n",
       "</style>\n",
       "<table border=\"1\" class=\"dataframe\">\n",
       "  <thead>\n",
       "    <tr style=\"text-align: right;\">\n",
       "      <th></th>\n",
       "      <th>class label</th>\n",
       "      <th>Alcohol</th>\n",
       "      <th>Malic acid</th>\n",
       "    </tr>\n",
       "  </thead>\n",
       "  <tbody>\n",
       "    <tr>\n",
       "      <th>0</th>\n",
       "      <td>1</td>\n",
       "      <td>14.23</td>\n",
       "      <td>1.71</td>\n",
       "    </tr>\n",
       "    <tr>\n",
       "      <th>1</th>\n",
       "      <td>1</td>\n",
       "      <td>13.20</td>\n",
       "      <td>1.78</td>\n",
       "    </tr>\n",
       "    <tr>\n",
       "      <th>2</th>\n",
       "      <td>1</td>\n",
       "      <td>13.16</td>\n",
       "      <td>2.36</td>\n",
       "    </tr>\n",
       "    <tr>\n",
       "      <th>3</th>\n",
       "      <td>1</td>\n",
       "      <td>14.37</td>\n",
       "      <td>1.95</td>\n",
       "    </tr>\n",
       "    <tr>\n",
       "      <th>4</th>\n",
       "      <td>1</td>\n",
       "      <td>13.24</td>\n",
       "      <td>2.59</td>\n",
       "    </tr>\n",
       "    <tr>\n",
       "      <th>...</th>\n",
       "      <td>...</td>\n",
       "      <td>...</td>\n",
       "      <td>...</td>\n",
       "    </tr>\n",
       "    <tr>\n",
       "      <th>173</th>\n",
       "      <td>3</td>\n",
       "      <td>13.71</td>\n",
       "      <td>5.65</td>\n",
       "    </tr>\n",
       "    <tr>\n",
       "      <th>174</th>\n",
       "      <td>3</td>\n",
       "      <td>13.40</td>\n",
       "      <td>3.91</td>\n",
       "    </tr>\n",
       "    <tr>\n",
       "      <th>175</th>\n",
       "      <td>3</td>\n",
       "      <td>13.27</td>\n",
       "      <td>4.28</td>\n",
       "    </tr>\n",
       "    <tr>\n",
       "      <th>176</th>\n",
       "      <td>3</td>\n",
       "      <td>13.17</td>\n",
       "      <td>2.59</td>\n",
       "    </tr>\n",
       "    <tr>\n",
       "      <th>177</th>\n",
       "      <td>3</td>\n",
       "      <td>14.13</td>\n",
       "      <td>4.10</td>\n",
       "    </tr>\n",
       "  </tbody>\n",
       "</table>\n",
       "<p>178 rows × 3 columns</p>\n",
       "</div>"
      ],
      "text/plain": [
       "     class label  Alcohol  Malic acid\n",
       "0              1    14.23        1.71\n",
       "1              1    13.20        1.78\n",
       "2              1    13.16        2.36\n",
       "3              1    14.37        1.95\n",
       "4              1    13.24        2.59\n",
       "..           ...      ...         ...\n",
       "173            3    13.71        5.65\n",
       "174            3    13.40        3.91\n",
       "175            3    13.27        4.28\n",
       "176            3    13.17        2.59\n",
       "177            3    14.13        4.10\n",
       "\n",
       "[178 rows x 3 columns]"
      ]
     },
     "execution_count": 3,
     "metadata": {},
     "output_type": "execute_result"
    }
   ],
   "source": [
    "df"
   ]
  },
  {
   "cell_type": "code",
   "execution_count": 4,
   "id": "3dfbce8f",
   "metadata": {},
   "outputs": [
    {
     "data": {
      "text/plain": [
       "<AxesSubplot:xlabel='Alcohol', ylabel='Density'>"
      ]
     },
     "execution_count": 4,
     "metadata": {},
     "output_type": "execute_result"
    },
    {
     "data": {
      "image/png": "[encoded data removed]",
      "text/plain": [
       "<Figure size 432x288 with 1 Axes>"
      ]
     },
     "metadata": {
      "needs_background": "light"
     },
     "output_type": "display_data"
    }
   ],
   "source": [
    "sns.kdeplot(df['Alcohol'])"
   ]
  },
  {
   "cell_type": "code",
   "execution_count": 5,
   "id": "c7c9d0cb",
   "metadata": {},
   "outputs": [
    {
     "data": {
      "text/plain": [
       "<AxesSubplot:xlabel='Malic acid', ylabel='Density'>"
      ]
     },
     "execution_count": 5,
     "metadata": {},
     "output_type": "execute_result"
    },
    {
     "data": {
      "image/png": "[encoded data removed]",
      "text/plain": [
       "<Figure size 432x288 with 1 Axes>"
      ]
     },
     "metadata": {
      "needs_background": "light"
     },
     "output_type": "display_data"
    }
   ],
   "source": [
    "sns.kdeplot(df['Malic acid'])"
   ]
  },
  {
   "cell_type": "code",
   "execution_count": 6,
   "id": "64185e31",
   "metadata": {},
   "outputs": [
    {
     "data": {
      "text/plain": [
       "<AxesSubplot:xlabel='Alcohol', ylabel='Malic acid'>"
      ]
     },
     "execution_count": 6,
     "metadata": {},
     "output_type": "execute_result"
    },
    {
     "data": {
      "image/png": "[encoded data removed]",
      "text/plain": [
       "<Figure size 432x288 with 1 Axes>"
      ]
     },
     "metadata": {
      "needs_background": "light"
     },
     "output_type": "display_data"
    }
   ],
   "source": [
    "color_dict={1:'red',2:'green',3:'blue'}\n",
    "sns.scatterplot(df['Alcohol'],df['Malic acid'],hue=df['class label'],palette=color_dict)"
   ]
  },
  {
   "cell_type": "code",
   "execution_count": 7,
   "id": "fe8c7ccb",
   "metadata": {},
   "outputs": [],
   "source": [
    "from sklearn.model_selection import train_test_split"
   ]
  },
  {
   "cell_type": "code",
   "execution_count": 8,
   "id": "bb2f8d95",
   "metadata": {},
   "outputs": [
    {
     "data": {
      "text/plain": [
       "0      1\n",
       "1      1\n",
       "2      1\n",
       "3      1\n",
       "4      1\n",
       "      ..\n",
       "173    3\n",
       "174    3\n",
       "175    3\n",
       "176    3\n",
       "177    3\n",
       "Name: class label, Length: 178, dtype: int64"
      ]
     },
     "execution_count": 8,
     "metadata": {},
     "output_type": "execute_result"
    }
   ],
   "source": [
    "x=df.drop('class label',axis=1)\n",
    "y=df['class label']\n",
    "y"
   ]
  },
  {
   "cell_type": "code",
   "execution_count": 9,
   "id": "a43ca3fb",
   "metadata": {},
   "outputs": [],
   "source": [
    "X_train,X_test,y_train,y_test=train_test_split(x,y,test_size=0.3,random_state=1)"
   ]
  },
  {
   "cell_type": "code",
   "execution_count": 10,
   "id": "d828b30f",
   "metadata": {},
   "outputs": [
    {
     "data": {
      "text/plain": [
       "((124, 2), (54, 2))"
      ]
     },
     "execution_count": 10,
     "metadata": {},
     "output_type": "execute_result"
    }
   ],
   "source": [
    "X_train.shape,X_test.shape"
   ]
  },
  {
   "cell_type": "code",
   "execution_count": 11,
   "id": "4183b097",
   "metadata": {},
   "outputs": [],
   "source": [
    "from sklearn.preprocessing import MinMaxScaler"
   ]
  },
  {
   "cell_type": "code",
   "execution_count": 12,
   "id": "4df23558",
   "metadata": {},
   "outputs": [],
   "source": [
    "scaler=MinMaxScaler()"
   ]
  },
  {
   "cell_type": "code",
   "execution_count": 13,
   "id": "d95d2bf1",
   "metadata": {},
   "outputs": [],
   "source": [
    "X_train_scaled=scaler.fit_transform(X_train)\n",
    "X_test_scaled=scaler.fit_transform(X_test)"
   ]
  },
  {
   "cell_type": "code",
   "execution_count": 14,
   "id": "2d942a84",
   "metadata": {},
   "outputs": [
    {
     "data": {
      "text/plain": [
       "array([[0.27631579, 0.18979592],\n",
       "       [0.37894737, 0.12653061],\n",
       "       [0.74736842, 0.20408163],\n",
       "       [0.22105263, 0.69591837],\n",
       "       [0.41315789, 0.31836735],\n",
       "       [0.54736842, 0.02244898],\n",
       "       [0.53157895, 1.        ],\n",
       "       [0.73684211, 0.13673469],\n",
       "       [0.72368421, 0.37959184],\n",
       "       [0.27631579, 0.0877551 ],\n",
       "       [0.30789474, 0.43469388],\n",
       "       [0.97894737, 0.16938776],\n",
       "       [0.32105263, 0.16938776],\n",
       "       [0.83684211, 0.64081633],\n",
       "       [0.33157895, 0.39387755],\n",
       "       [0.59210526, 0.15102041],\n",
       "       [0.45789474, 0.30408163],\n",
       "       [0.63684211, 0.57142857],\n",
       "       [0.67105263, 0.34285714],\n",
       "       [0.58947368, 0.68979592],\n",
       "       [0.45789474, 0.51632653],\n",
       "       [0.16578947, 0.2       ],\n",
       "       [0.5       , 0.59183673],\n",
       "       [0.70526316, 0.96938776],\n",
       "       [0.56052632, 0.29795918],\n",
       "       [0.33157895, 0.14489796],\n",
       "       [0.50789474, 0.52040816],\n",
       "       [0.88421053, 0.19795918],\n",
       "       [0.43157895, 0.01632653],\n",
       "       [0.84210526, 0.16530612],\n",
       "       [0.32105263, 0.77959184],\n",
       "       [0.21315789, 0.40612245],\n",
       "       [0.35263158, 0.06326531],\n",
       "       [0.66578947, 0.16938776],\n",
       "       [0.33157895, 0.46326531],\n",
       "       [0.16052632, 0.23673469],\n",
       "       [0.34473684, 0.31632653],\n",
       "       [0.88157895, 0.54897959],\n",
       "       [0.69473684, 0.07142857],\n",
       "       [0.24473684, 0.03877551],\n",
       "       [0.43684211, 0.12857143],\n",
       "       [0.56315789, 0.34489796],\n",
       "       [0.20789474, 0.11632653],\n",
       "       [0.25526316, 0.51632653],\n",
       "       [0.27368421, 0.25714286],\n",
       "       [0.11315789, 0.57959184],\n",
       "       [0.80789474, 0.25714286],\n",
       "       [0.65263158, 0.18367347],\n",
       "       [0.69736842, 0.18979592],\n",
       "       [0.56052632, 0.54489796],\n",
       "       [0.53684211, 0.12244898],\n",
       "       [0.53157895, 0.60408163],\n",
       "       [0.40789474, 0.07959184],\n",
       "       [0.81578947, 0.65306122],\n",
       "       [0.59736842, 0.16734694],\n",
       "       [0.27631579, 0.24081633],\n",
       "       [0.47894737, 0.14285714],\n",
       "       [0.20789474, 0.16734694],\n",
       "       [0.35263158, 0.05510204],\n",
       "       [0.74473684, 0.09183673],\n",
       "       [0.65      , 0.45306122],\n",
       "       [0.38947368, 0.16938776],\n",
       "       [0.36578947, 0.72040816],\n",
       "       [0.46842105, 0.2877551 ],\n",
       "       [0.57894737, 0.48979592],\n",
       "       [0.16315789, 0.15714286],\n",
       "       [0.35263158, 0.03469388],\n",
       "       [0.39210526, 0.3122449 ],\n",
       "       [0.47105263, 0.50408163],\n",
       "       [0.87105263, 0.15918367],\n",
       "       [0.3       , 0.1122449 ],\n",
       "       [0.68421053, 0.18571429],\n",
       "       [0.27631579, 0.04693878],\n",
       "       [0.62631579, 0.6       ],\n",
       "       [0.68157895, 0.82653061],\n",
       "       [0.15263158, 0.09183673],\n",
       "       [0.25526316, 0.00408163],\n",
       "       [0.73421053, 0.17346939],\n",
       "       [0.62105263, 0.17755102],\n",
       "       [0.52631579, 0.        ],\n",
       "       [0.58157895, 0.62857143],\n",
       "       [0.65      , 0.18571429],\n",
       "       [0.87894737, 0.21428571],\n",
       "       [0.53947368, 0.6122449 ],\n",
       "       [0.76578947, 0.16938776],\n",
       "       [0.48684211, 0.42653061],\n",
       "       [0.62368421, 0.75510204],\n",
       "       [0.71052632, 0.12244898],\n",
       "       [0.13947368, 0.23469388],\n",
       "       [0.        , 0.1244898 ],\n",
       "       [0.56315789, 0.8755102 ],\n",
       "       [1.        , 0.15102041],\n",
       "       [0.34210526, 0.04081633],\n",
       "       [0.35263158, 0.14897959],\n",
       "       [0.57105263, 0.17959184],\n",
       "       [0.59473684, 0.21836735],\n",
       "       [0.70526316, 0.19591837],\n",
       "       [0.42368421, 0.09387755],\n",
       "       [0.35263158, 0.04693878],\n",
       "       [0.79736842, 0.25510204],\n",
       "       [0.62368421, 0.61428571],\n",
       "       [0.61315789, 0.33877551],\n",
       "       [0.29736842, 0.14489796],\n",
       "       [0.20526316, 0.24897959],\n",
       "       [0.60789474, 0.00816327],\n",
       "       [0.53157895, 0.16938776],\n",
       "       [0.65526316, 0.46326531],\n",
       "       [0.37368421, 0.43469388],\n",
       "       [0.73947368, 0.65714286],\n",
       "       [0.47631579, 0.42040816],\n",
       "       [0.75      , 0.84489796],\n",
       "       [0.41315789, 0.08979592],\n",
       "       [0.79736842, 0.14897959],\n",
       "       [0.53157895, 0.23469388],\n",
       "       [0.38947368, 0.06938776],\n",
       "       [0.74473684, 0.1244898 ],\n",
       "       [0.26578947, 0.69387755],\n",
       "       [0.32105263, 0.60816327],\n",
       "       [0.43947368, 0.60612245],\n",
       "       [0.43947368, 0.54081633],\n",
       "       [0.39473684, 0.94081633],\n",
       "       [0.64736842, 0.15510204],\n",
       "       [0.5       , 0.38979592],\n",
       "       [0.53157895, 0.15306122]])"
      ]
     },
     "execution_count": 14,
     "metadata": {},
     "output_type": "execute_result"
    }
   ],
   "source": [
    "X_train_scaled"
   ]
  },
  {
   "cell_type": "code",
   "execution_count": 15,
   "id": "ee5a3198",
   "metadata": {},
   "outputs": [],
   "source": [
    "X_train_scaled=pd.DataFrame(X_train_scaled,columns=X_train.columns)\n",
    "X_test_scaled=pd.DataFrame(X_test_scaled,columns=X_test.columns)"
   ]
  },
  {
   "cell_type": "code",
   "execution_count": 16,
   "id": "a8c76fdc",
   "metadata": {},
   "outputs": [
    {
     "data": {
      "text/html": [
       "<div>\n",
       "<style scoped>\n",
       "    .dataframe tbody tr th:only-of-type {\n",
       "        vertical-align: middle;\n",
       "    }\n",
       "\n",
       "    .dataframe tbody tr th {\n",
       "        vertical-align: top;\n",
       "    }\n",
       "\n",
       "    .dataframe thead th {\n",
       "        text-align: right;\n",
       "    }\n",
       "</style>\n",
       "<table border=\"1\" class=\"dataframe\">\n",
       "  <thead>\n",
       "    <tr style=\"text-align: right;\">\n",
       "      <th></th>\n",
       "      <th>Alcohol</th>\n",
       "      <th>Malic acid</th>\n",
       "    </tr>\n",
       "  </thead>\n",
       "  <tbody>\n",
       "    <tr>\n",
       "      <th>0</th>\n",
       "      <td>0.276316</td>\n",
       "      <td>0.189796</td>\n",
       "    </tr>\n",
       "    <tr>\n",
       "      <th>1</th>\n",
       "      <td>0.378947</td>\n",
       "      <td>0.126531</td>\n",
       "    </tr>\n",
       "    <tr>\n",
       "      <th>2</th>\n",
       "      <td>0.747368</td>\n",
       "      <td>0.204082</td>\n",
       "    </tr>\n",
       "    <tr>\n",
       "      <th>3</th>\n",
       "      <td>0.221053</td>\n",
       "      <td>0.695918</td>\n",
       "    </tr>\n",
       "    <tr>\n",
       "      <th>4</th>\n",
       "      <td>0.413158</td>\n",
       "      <td>0.318367</td>\n",
       "    </tr>\n",
       "    <tr>\n",
       "      <th>...</th>\n",
       "      <td>...</td>\n",
       "      <td>...</td>\n",
       "    </tr>\n",
       "    <tr>\n",
       "      <th>119</th>\n",
       "      <td>0.439474</td>\n",
       "      <td>0.540816</td>\n",
       "    </tr>\n",
       "    <tr>\n",
       "      <th>120</th>\n",
       "      <td>0.394737</td>\n",
       "      <td>0.940816</td>\n",
       "    </tr>\n",
       "    <tr>\n",
       "      <th>121</th>\n",
       "      <td>0.647368</td>\n",
       "      <td>0.155102</td>\n",
       "    </tr>\n",
       "    <tr>\n",
       "      <th>122</th>\n",
       "      <td>0.500000</td>\n",
       "      <td>0.389796</td>\n",
       "    </tr>\n",
       "    <tr>\n",
       "      <th>123</th>\n",
       "      <td>0.531579</td>\n",
       "      <td>0.153061</td>\n",
       "    </tr>\n",
       "  </tbody>\n",
       "</table>\n",
       "<p>124 rows × 2 columns</p>\n",
       "</div>"
      ],
      "text/plain": [
       "      Alcohol  Malic acid\n",
       "0    0.276316    0.189796\n",
       "1    0.378947    0.126531\n",
       "2    0.747368    0.204082\n",
       "3    0.221053    0.695918\n",
       "4    0.413158    0.318367\n",
       "..        ...         ...\n",
       "119  0.439474    0.540816\n",
       "120  0.394737    0.940816\n",
       "121  0.647368    0.155102\n",
       "122  0.500000    0.389796\n",
       "123  0.531579    0.153061\n",
       "\n",
       "[124 rows x 2 columns]"
      ]
     },
     "execution_count": 16,
     "metadata": {},
     "output_type": "execute_result"
    }
   ],
   "source": [
    "X_train_scaled"
   ]
  },
  {
   "cell_type": "code",
   "execution_count": 17,
   "id": "b5e2c7ba",
   "metadata": {},
   "outputs": [
    {
     "data": {
      "text/html": [
       "<div>\n",
       "<style scoped>\n",
       "    .dataframe tbody tr th:only-of-type {\n",
       "        vertical-align: middle;\n",
       "    }\n",
       "\n",
       "    .dataframe tbody tr th {\n",
       "        vertical-align: top;\n",
       "    }\n",
       "\n",
       "    .dataframe thead th {\n",
       "        text-align: right;\n",
       "    }\n",
       "</style>\n",
       "<table border=\"1\" class=\"dataframe\">\n",
       "  <thead>\n",
       "    <tr style=\"text-align: right;\">\n",
       "      <th></th>\n",
       "      <th>Alcohol</th>\n",
       "      <th>Malic acid</th>\n",
       "    </tr>\n",
       "  </thead>\n",
       "  <tbody>\n",
       "    <tr>\n",
       "      <th>count</th>\n",
       "      <td>124.000000</td>\n",
       "      <td>124.000000</td>\n",
       "    </tr>\n",
       "    <tr>\n",
       "      <th>mean</th>\n",
       "      <td>0.505008</td>\n",
       "      <td>0.318318</td>\n",
       "    </tr>\n",
       "    <tr>\n",
       "      <th>std</th>\n",
       "      <td>0.207888</td>\n",
       "      <td>0.243065</td>\n",
       "    </tr>\n",
       "    <tr>\n",
       "      <th>min</th>\n",
       "      <td>0.000000</td>\n",
       "      <td>0.000000</td>\n",
       "    </tr>\n",
       "    <tr>\n",
       "      <th>25%</th>\n",
       "      <td>0.344079</td>\n",
       "      <td>0.144898</td>\n",
       "    </tr>\n",
       "    <tr>\n",
       "      <th>50%</th>\n",
       "      <td>0.517105</td>\n",
       "      <td>0.216327</td>\n",
       "    </tr>\n",
       "    <tr>\n",
       "      <th>75%</th>\n",
       "      <td>0.653289</td>\n",
       "      <td>0.507143</td>\n",
       "    </tr>\n",
       "    <tr>\n",
       "      <th>max</th>\n",
       "      <td>1.000000</td>\n",
       "      <td>1.000000</td>\n",
       "    </tr>\n",
       "  </tbody>\n",
       "</table>\n",
       "</div>"
      ],
      "text/plain": [
       "          Alcohol  Malic acid\n",
       "count  124.000000  124.000000\n",
       "mean     0.505008    0.318318\n",
       "std      0.207888    0.243065\n",
       "min      0.000000    0.000000\n",
       "25%      0.344079    0.144898\n",
       "50%      0.517105    0.216327\n",
       "75%      0.653289    0.507143\n",
       "max      1.000000    1.000000"
      ]
     },
     "execution_count": 17,
     "metadata": {},
     "output_type": "execute_result"
    }
   ],
   "source": [
    "X_train_scaled.describe()"
   ]
  },
  {
   "cell_type": "code",
   "execution_count": 18,
   "id": "3aa08cde",
   "metadata": {},
   "outputs": [
    {
     "data": {
      "text/html": [
       "<div>\n",
       "<style scoped>\n",
       "    .dataframe tbody tr th:only-of-type {\n",
       "        vertical-align: middle;\n",
       "    }\n",
       "\n",
       "    .dataframe tbody tr th {\n",
       "        vertical-align: top;\n",
       "    }\n",
       "\n",
       "    .dataframe thead th {\n",
       "        text-align: right;\n",
       "    }\n",
       "</style>\n",
       "<table border=\"1\" class=\"dataframe\">\n",
       "  <thead>\n",
       "    <tr style=\"text-align: right;\">\n",
       "      <th></th>\n",
       "      <th>Alcohol</th>\n",
       "      <th>Malic acid</th>\n",
       "    </tr>\n",
       "  </thead>\n",
       "  <tbody>\n",
       "    <tr>\n",
       "      <th>count</th>\n",
       "      <td>54.000000</td>\n",
       "      <td>54.000000</td>\n",
       "    </tr>\n",
       "    <tr>\n",
       "      <th>mean</th>\n",
       "      <td>0.575446</td>\n",
       "      <td>0.339267</td>\n",
       "    </tr>\n",
       "    <tr>\n",
       "      <th>std</th>\n",
       "      <td>0.288111</td>\n",
       "      <td>0.225030</td>\n",
       "    </tr>\n",
       "    <tr>\n",
       "      <th>min</th>\n",
       "      <td>0.000000</td>\n",
       "      <td>0.000000</td>\n",
       "    </tr>\n",
       "    <tr>\n",
       "      <th>25%</th>\n",
       "      <td>0.327441</td>\n",
       "      <td>0.208010</td>\n",
       "    </tr>\n",
       "    <tr>\n",
       "      <th>50%</th>\n",
       "      <td>0.629630</td>\n",
       "      <td>0.262274</td>\n",
       "    </tr>\n",
       "    <tr>\n",
       "      <th>75%</th>\n",
       "      <td>0.793771</td>\n",
       "      <td>0.450258</td>\n",
       "    </tr>\n",
       "    <tr>\n",
       "      <th>max</th>\n",
       "      <td>1.000000</td>\n",
       "      <td>1.000000</td>\n",
       "    </tr>\n",
       "  </tbody>\n",
       "</table>\n",
       "</div>"
      ],
      "text/plain": [
       "         Alcohol  Malic acid\n",
       "count  54.000000   54.000000\n",
       "mean    0.575446    0.339267\n",
       "std     0.288111    0.225030\n",
       "min     0.000000    0.000000\n",
       "25%     0.327441    0.208010\n",
       "50%     0.629630    0.262274\n",
       "75%     0.793771    0.450258\n",
       "max     1.000000    1.000000"
      ]
     },
     "execution_count": 18,
     "metadata": {},
     "output_type": "execute_result"
    }
   ],
   "source": [
    "X_test_scaled.describe()"
   ]
  },
  {
   "cell_type": "code",
   "execution_count": 19,
   "id": "37207ce7",
   "metadata": {},
   "outputs": [
    {
     "data": {
      "image/png": "[encoded data removed]",
      "text/plain": [
       "<Figure size 864x360 with 2 Axes>"
      ]
     },
     "metadata": {
      "needs_background": "light"
     },
     "output_type": "display_data"
    }
   ],
   "source": [
    "fig,(ax1,ax2)=plt.subplots(ncols=2,figsize=(12,5))\n",
    "\n",
    "ax1.scatter(X_train['Alcohol'],X_train['Malic acid'])\n",
    "ax1.set_title('Before Scaling')\n",
    "\n",
    "ax2.scatter(X_train_scaled['Alcohol'],X_train_scaled['Malic acid'],c='g')\n",
    "ax2.set_title('After Scaling')\n",
    "plt.show()"
   ]
  },
  {
   "cell_type": "code",
   "execution_count": 26,
   "id": "2c4bdce3",
   "metadata": {},
   "outputs": [],
   "source": [
    "#outlier has been added"
   ]
  },
  {
   "cell_type": "code",
   "execution_count": 21,
   "id": "4ab0b5e5",
   "metadata": {},
   "outputs": [],
   "source": [
    "df.loc[len(df)]=[3,10,15]"
   ]
  },
  {
   "cell_type": "code",
   "execution_count": 24,
   "id": "ca0f1153",
   "metadata": {},
   "outputs": [],
   "source": [
    "df.loc[len(df)]=[2,30,17]"
   ]
  },
  {
   "cell_type": "code",
   "execution_count": 25,
   "id": "7ff680f2",
   "metadata": {},
   "outputs": [],
   "source": [
    "df.loc[len(df)]=[3,35,25]"
   ]
  },
  {
   "cell_type": "code",
   "execution_count": 27,
   "id": "af42c036",
   "metadata": {},
   "outputs": [
    {
     "data": {
      "text/html": [
       "<div>\n",
       "<style scoped>\n",
       "    .dataframe tbody tr th:only-of-type {\n",
       "        vertical-align: middle;\n",
       "    }\n",
       "\n",
       "    .dataframe tbody tr th {\n",
       "        vertical-align: top;\n",
       "    }\n",
       "\n",
       "    .dataframe thead th {\n",
       "        text-align: right;\n",
       "    }\n",
       "</style>\n",
       "<table border=\"1\" class=\"dataframe\">\n",
       "  <thead>\n",
       "    <tr style=\"text-align: right;\">\n",
       "      <th></th>\n",
       "      <th>class label</th>\n",
       "      <th>Alcohol</th>\n",
       "      <th>Malic acid</th>\n",
       "    </tr>\n",
       "  </thead>\n",
       "  <tbody>\n",
       "    <tr>\n",
       "      <th>count</th>\n",
       "      <td>181.000000</td>\n",
       "      <td>181.000000</td>\n",
       "      <td>181.000000</td>\n",
       "    </tr>\n",
       "    <tr>\n",
       "      <th>mean</th>\n",
       "      <td>1.950276</td>\n",
       "      <td>13.199503</td>\n",
       "      <td>2.612541</td>\n",
       "    </tr>\n",
       "    <tr>\n",
       "      <th>std</th>\n",
       "      <td>0.776575</td>\n",
       "      <td>2.225421</td>\n",
       "      <td>2.467706</td>\n",
       "    </tr>\n",
       "    <tr>\n",
       "      <th>min</th>\n",
       "      <td>1.000000</td>\n",
       "      <td>10.000000</td>\n",
       "      <td>0.740000</td>\n",
       "    </tr>\n",
       "    <tr>\n",
       "      <th>25%</th>\n",
       "      <td>1.000000</td>\n",
       "      <td>12.360000</td>\n",
       "      <td>1.610000</td>\n",
       "    </tr>\n",
       "    <tr>\n",
       "      <th>50%</th>\n",
       "      <td>2.000000</td>\n",
       "      <td>13.050000</td>\n",
       "      <td>1.870000</td>\n",
       "    </tr>\n",
       "    <tr>\n",
       "      <th>75%</th>\n",
       "      <td>3.000000</td>\n",
       "      <td>13.690000</td>\n",
       "      <td>3.170000</td>\n",
       "    </tr>\n",
       "    <tr>\n",
       "      <th>max</th>\n",
       "      <td>3.000000</td>\n",
       "      <td>35.000000</td>\n",
       "      <td>25.000000</td>\n",
       "    </tr>\n",
       "  </tbody>\n",
       "</table>\n",
       "</div>"
      ],
      "text/plain": [
       "       class label     Alcohol  Malic acid\n",
       "count   181.000000  181.000000  181.000000\n",
       "mean      1.950276   13.199503    2.612541\n",
       "std       0.776575    2.225421    2.467706\n",
       "min       1.000000   10.000000    0.740000\n",
       "25%       1.000000   12.360000    1.610000\n",
       "50%       2.000000   13.050000    1.870000\n",
       "75%       3.000000   13.690000    3.170000\n",
       "max       3.000000   35.000000   25.000000"
      ]
     },
     "execution_count": 27,
     "metadata": {},
     "output_type": "execute_result"
    }
   ],
   "source": [
    "df.describe()"
   ]
  },
  {
   "cell_type": "code",
   "execution_count": 28,
   "id": "1c73f7df",
   "metadata": {},
   "outputs": [
    {
     "data": {
      "text/plain": [
       "<AxesSubplot:xlabel='Alcohol', ylabel='Malic acid'>"
      ]
     },
     "execution_count": 28,
     "metadata": {},
     "output_type": "execute_result"
    },
    {
     "data": {
      "image/png": "[encoded data removed]",
      "text/plain": [
       "<Figure size 432x288 with 1 Axes>"
      ]
     },
     "metadata": {
      "needs_background": "light"
     },
     "output_type": "display_data"
    }
   ],
   "source": [
    "color_dict={1:'red',2:'green',3:'blue'}\n",
    "sns.scatterplot(df['Alcohol'],df['Malic acid'],hue=df['class label'],palette=color_dict)"
   ]
  },
  {
   "cell_type": "code",
   "execution_count": 29,
   "id": "b47b2103",
   "metadata": {},
   "outputs": [
    {
     "data": {
      "text/html": [
       "<div>\n",
       "<style scoped>\n",
       "    .dataframe tbody tr th:only-of-type {\n",
       "        vertical-align: middle;\n",
       "    }\n",
       "\n",
       "    .dataframe tbody tr th {\n",
       "        vertical-align: top;\n",
       "    }\n",
       "\n",
       "    .dataframe thead th {\n",
       "        text-align: right;\n",
       "    }\n",
       "</style>\n",
       "<table border=\"1\" class=\"dataframe\">\n",
       "  <thead>\n",
       "    <tr style=\"text-align: right;\">\n",
       "      <th></th>\n",
       "      <th>class label</th>\n",
       "      <th>Alcohol</th>\n",
       "      <th>Malic acid</th>\n",
       "    </tr>\n",
       "  </thead>\n",
       "  <tbody>\n",
       "    <tr>\n",
       "      <th>0</th>\n",
       "      <td>1</td>\n",
       "      <td>14.23</td>\n",
       "      <td>1.71</td>\n",
       "    </tr>\n",
       "    <tr>\n",
       "      <th>1</th>\n",
       "      <td>1</td>\n",
       "      <td>13.20</td>\n",
       "      <td>1.78</td>\n",
       "    </tr>\n",
       "    <tr>\n",
       "      <th>2</th>\n",
       "      <td>1</td>\n",
       "      <td>13.16</td>\n",
       "      <td>2.36</td>\n",
       "    </tr>\n",
       "    <tr>\n",
       "      <th>3</th>\n",
       "      <td>1</td>\n",
       "      <td>14.37</td>\n",
       "      <td>1.95</td>\n",
       "    </tr>\n",
       "    <tr>\n",
       "      <th>4</th>\n",
       "      <td>1</td>\n",
       "      <td>13.24</td>\n",
       "      <td>2.59</td>\n",
       "    </tr>\n",
       "    <tr>\n",
       "      <th>...</th>\n",
       "      <td>...</td>\n",
       "      <td>...</td>\n",
       "      <td>...</td>\n",
       "    </tr>\n",
       "    <tr>\n",
       "      <th>176</th>\n",
       "      <td>3</td>\n",
       "      <td>13.17</td>\n",
       "      <td>2.59</td>\n",
       "    </tr>\n",
       "    <tr>\n",
       "      <th>177</th>\n",
       "      <td>3</td>\n",
       "      <td>14.13</td>\n",
       "      <td>4.10</td>\n",
       "    </tr>\n",
       "    <tr>\n",
       "      <th>178</th>\n",
       "      <td>3</td>\n",
       "      <td>10.00</td>\n",
       "      <td>15.00</td>\n",
       "    </tr>\n",
       "    <tr>\n",
       "      <th>179</th>\n",
       "      <td>2</td>\n",
       "      <td>30.00</td>\n",
       "      <td>17.00</td>\n",
       "    </tr>\n",
       "    <tr>\n",
       "      <th>180</th>\n",
       "      <td>3</td>\n",
       "      <td>35.00</td>\n",
       "      <td>25.00</td>\n",
       "    </tr>\n",
       "  </tbody>\n",
       "</table>\n",
       "<p>181 rows × 3 columns</p>\n",
       "</div>"
      ],
      "text/plain": [
       "     class label  Alcohol  Malic acid\n",
       "0              1    14.23        1.71\n",
       "1              1    13.20        1.78\n",
       "2              1    13.16        2.36\n",
       "3              1    14.37        1.95\n",
       "4              1    13.24        2.59\n",
       "..           ...      ...         ...\n",
       "176            3    13.17        2.59\n",
       "177            3    14.13        4.10\n",
       "178            3    10.00       15.00\n",
       "179            2    30.00       17.00\n",
       "180            3    35.00       25.00\n",
       "\n",
       "[181 rows x 3 columns]"
      ]
     },
     "execution_count": 29,
     "metadata": {},
     "output_type": "execute_result"
    }
   ],
   "source": [
    "df"
   ]
  },
  {
   "cell_type": "code",
   "execution_count": null,
   "id": "3c4ce075",
   "metadata": {},
   "outputs": [],
   "source": []
  }
 ],
 "metadata": {
  "kernelspec": {
   "display_name": "Python 3 (ipykernel)",
   "language": "python",
   "name": "python3"
  },
  "language_info": {
   "codemirror_mode": {
    "name": "ipython",
    "version": 3
   },
   "file_extension": ".py",
   "mimetype": "text/x-python",
   "name": "python",
   "nbconvert_exporter": "python",
   "pygments_lexer": "ipython3",
   "version": "3.9.12"
  }
 },
 "nbformat": 4,
 "nbformat_minor": 5
}
